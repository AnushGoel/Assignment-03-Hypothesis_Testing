{
 "cells": [
  {
   "cell_type": "code",
   "execution_count": 1,
   "id": "1869227b",
   "metadata": {},
   "outputs": [],
   "source": [
    "import statsmodels.api as sm\n",
    "import scipy.stats as stats\n",
    "import numpy as np\n",
    "import matplotlib.pyplot as plt\n",
    "import seaborn as sns\n",
    "import pandas as pd"
   ]
  },
  {
   "cell_type": "markdown",
   "id": "52ac752d",
   "metadata": {},
   "source": [
    "Q1) A F&B manager wants to determine whether there is any significant difference in the diameter of the cutlet between two units. A randomly selected sample of cutlets was collected from both units and measured? Analyze the data and draw inferences at 5% significance level. Please state the assumptions and tests that you carried out to check validity of the assumptions."
   ]
  },
  {
   "cell_type": "markdown",
   "id": "74bcb500",
   "metadata": {},
   "source": [
    "## Step 1\n",
    "##### Null Hypothesis is want we want to prove\n",
    "Null Hypothesis: A=B \n",
    "\n",
    "Alternative Hypthosis: A≠B\n",
    "## Step 2\n",
    "##### Decide a cut-off value\n",
    "###### Significance 5%\n",
    "###### Alpha = 0.05\n",
    "###### As it is a two-tailed test\n",
    "###### alpha/2 = 0.025\n",
    "\n",
    "## Step 3\n",
    "##### Collect evidence"
   ]
  },
  {
   "cell_type": "code",
   "execution_count": 2,
   "id": "e58ed2ac",
   "metadata": {},
   "outputs": [],
   "source": [
    "Q1= pd.read_csv(\"Cutlets.csv\")"
   ]
  },
  {
   "cell_type": "code",
   "execution_count": 33,
   "id": "7032d126",
   "metadata": {},
   "outputs": [
    {
     "data": {
      "text/html": [
       "<div>\n",
       "<style scoped>\n",
       "    .dataframe tbody tr th:only-of-type {\n",
       "        vertical-align: middle;\n",
       "    }\n",
       "\n",
       "    .dataframe tbody tr th {\n",
       "        vertical-align: top;\n",
       "    }\n",
       "\n",
       "    .dataframe thead th {\n",
       "        text-align: right;\n",
       "    }\n",
       "</style>\n",
       "<table border=\"1\" class=\"dataframe\">\n",
       "  <thead>\n",
       "    <tr style=\"text-align: right;\">\n",
       "      <th></th>\n",
       "      <th>Unit A</th>\n",
       "      <th>Unit B</th>\n",
       "    </tr>\n",
       "  </thead>\n",
       "  <tbody>\n",
       "    <tr>\n",
       "      <th>0</th>\n",
       "      <td>6.8090</td>\n",
       "      <td>6.7703</td>\n",
       "    </tr>\n",
       "    <tr>\n",
       "      <th>1</th>\n",
       "      <td>6.4376</td>\n",
       "      <td>7.5093</td>\n",
       "    </tr>\n",
       "    <tr>\n",
       "      <th>2</th>\n",
       "      <td>6.9157</td>\n",
       "      <td>6.7300</td>\n",
       "    </tr>\n",
       "    <tr>\n",
       "      <th>3</th>\n",
       "      <td>7.3012</td>\n",
       "      <td>6.7878</td>\n",
       "    </tr>\n",
       "    <tr>\n",
       "      <th>4</th>\n",
       "      <td>7.4488</td>\n",
       "      <td>7.1522</td>\n",
       "    </tr>\n",
       "  </tbody>\n",
       "</table>\n",
       "</div>"
      ],
      "text/plain": [
       "   Unit A  Unit B\n",
       "0  6.8090  6.7703\n",
       "1  6.4376  7.5093\n",
       "2  6.9157  6.7300\n",
       "3  7.3012  6.7878\n",
       "4  7.4488  7.1522"
      ]
     },
     "execution_count": 33,
     "metadata": {},
     "output_type": "execute_result"
    }
   ],
   "source": [
    "Q1.head()"
   ]
  },
  {
   "cell_type": "code",
   "execution_count": 4,
   "id": "1676e61a",
   "metadata": {},
   "outputs": [
    {
     "name": "stdout",
     "output_type": "stream",
     "text": [
      "<class 'pandas.core.frame.DataFrame'>\n",
      "RangeIndex: 35 entries, 0 to 34\n",
      "Data columns (total 2 columns):\n",
      " #   Column  Non-Null Count  Dtype  \n",
      "---  ------  --------------  -----  \n",
      " 0   Unit A  35 non-null     float64\n",
      " 1   Unit B  35 non-null     float64\n",
      "dtypes: float64(2)\n",
      "memory usage: 688.0 bytes\n"
     ]
    }
   ],
   "source": [
    "Q1.info ()"
   ]
  },
  {
   "cell_type": "code",
   "execution_count": 5,
   "id": "e4473676",
   "metadata": {},
   "outputs": [
    {
     "data": {
      "text/plain": [
       "Unit A    float64\n",
       "Unit B    float64\n",
       "dtype: object"
      ]
     },
     "execution_count": 5,
     "metadata": {},
     "output_type": "execute_result"
    }
   ],
   "source": [
    "Q1.dtypes"
   ]
  },
  {
   "cell_type": "markdown",
   "id": "06a4052a",
   "metadata": {},
   "source": [
    "### STEP 4: Finding the p value corresponding to X bar"
   ]
  },
  {
   "cell_type": "code",
   "execution_count": 6,
   "id": "72c3829b",
   "metadata": {},
   "outputs": [
    {
     "data": {
      "text/plain": [
       "(0.7228688704677945, 0.47223947245995745, 68.0)"
      ]
     },
     "execution_count": 6,
     "metadata": {},
     "output_type": "execute_result"
    }
   ],
   "source": [
    "sm.stats.ttest_ind(Q1[\"Unit A\"], Q1[\"Unit B\"], alternative='two-sided')"
   ]
  },
  {
   "cell_type": "markdown",
   "id": "3619ad77",
   "metadata": {},
   "source": [
    "### STEP 5: Compare Evidences with Hypothesis using t-statistics"
   ]
  },
  {
   "cell_type": "code",
   "execution_count": 7,
   "id": "55c6b949",
   "metadata": {},
   "outputs": [
    {
     "name": "stdout",
     "output_type": "stream",
     "text": [
      "Significnace=0.025, p=0.472\n",
      "We fail to reject Null hypothesis\n"
     ]
    }
   ],
   "source": [
    "alpha = 0.025\n",
    "print('Significnace=%.3f, p=%.3f' % (alpha, 0.47223947245995745))\n",
    "if 0.47223947245995745 <= alpha:\n",
    "    print('We reject Null Hypothesis there is a significance difference between two Units A and B')\n",
    "else:\n",
    "    print('We fail to reject Null hypothesis')"
   ]
  },
  {
   "cell_type": "markdown",
   "id": "2bfdf389",
   "metadata": {},
   "source": [
    "Q2) A hospital wants to determine whether there is any difference in the average Turn Around Time (TAT) of reports of the laboratories on their preferred list. They collected a random sample and recorded TAT for reports of 4 laboratories. TAT is defined as sample collected to report dispatch.\n",
    "   \n",
    "  Analyze the data and determine whether there is any difference in average TAT among the different laboratories at 5% significance level.\n",
    " \n",
    " "
   ]
  },
  {
   "cell_type": "markdown",
   "id": "0f037e75",
   "metadata": {},
   "source": [
    "### Step 1\n",
    "Null Hypothesis is want we want to prove\n",
    "\n",
    "Null Hypothesis: L1=L2=L3=L4\n",
    "\n",
    "Alternative Hypthosis: Atleast one is different\n",
    "\n",
    "### Step 2\n",
    "Decide a cut-off value\n",
    "\n",
    "Significance 5%\n",
    "\n",
    "Alpha = 0.05\n",
    "\n",
    "### Step 3\n",
    "Collect evidence"
   ]
  },
  {
   "cell_type": "code",
   "execution_count": 8,
   "id": "71588857",
   "metadata": {},
   "outputs": [],
   "source": [
    "Q2= pd.read_csv ('LabTAT.csv')"
   ]
  },
  {
   "cell_type": "code",
   "execution_count": 34,
   "id": "81a092e4",
   "metadata": {},
   "outputs": [
    {
     "data": {
      "text/html": [
       "<div>\n",
       "<style scoped>\n",
       "    .dataframe tbody tr th:only-of-type {\n",
       "        vertical-align: middle;\n",
       "    }\n",
       "\n",
       "    .dataframe tbody tr th {\n",
       "        vertical-align: top;\n",
       "    }\n",
       "\n",
       "    .dataframe thead th {\n",
       "        text-align: right;\n",
       "    }\n",
       "</style>\n",
       "<table border=\"1\" class=\"dataframe\">\n",
       "  <thead>\n",
       "    <tr style=\"text-align: right;\">\n",
       "      <th></th>\n",
       "      <th>Laboratory 1</th>\n",
       "      <th>Laboratory 2</th>\n",
       "      <th>Laboratory 3</th>\n",
       "      <th>Laboratory 4</th>\n",
       "    </tr>\n",
       "  </thead>\n",
       "  <tbody>\n",
       "    <tr>\n",
       "      <th>0</th>\n",
       "      <td>185.35</td>\n",
       "      <td>165.53</td>\n",
       "      <td>176.70</td>\n",
       "      <td>166.13</td>\n",
       "    </tr>\n",
       "    <tr>\n",
       "      <th>1</th>\n",
       "      <td>170.49</td>\n",
       "      <td>185.91</td>\n",
       "      <td>198.45</td>\n",
       "      <td>160.79</td>\n",
       "    </tr>\n",
       "    <tr>\n",
       "      <th>2</th>\n",
       "      <td>192.77</td>\n",
       "      <td>194.92</td>\n",
       "      <td>201.23</td>\n",
       "      <td>185.18</td>\n",
       "    </tr>\n",
       "    <tr>\n",
       "      <th>3</th>\n",
       "      <td>177.33</td>\n",
       "      <td>183.00</td>\n",
       "      <td>199.61</td>\n",
       "      <td>176.42</td>\n",
       "    </tr>\n",
       "    <tr>\n",
       "      <th>4</th>\n",
       "      <td>193.41</td>\n",
       "      <td>169.57</td>\n",
       "      <td>204.63</td>\n",
       "      <td>152.60</td>\n",
       "    </tr>\n",
       "  </tbody>\n",
       "</table>\n",
       "</div>"
      ],
      "text/plain": [
       "   Laboratory 1  Laboratory 2  Laboratory 3  Laboratory 4\n",
       "0        185.35        165.53        176.70        166.13\n",
       "1        170.49        185.91        198.45        160.79\n",
       "2        192.77        194.92        201.23        185.18\n",
       "3        177.33        183.00        199.61        176.42\n",
       "4        193.41        169.57        204.63        152.60"
      ]
     },
     "execution_count": 34,
     "metadata": {},
     "output_type": "execute_result"
    }
   ],
   "source": [
    "Q2.head()"
   ]
  },
  {
   "cell_type": "code",
   "execution_count": 10,
   "id": "8a9004cf",
   "metadata": {},
   "outputs": [
    {
     "name": "stdout",
     "output_type": "stream",
     "text": [
      "<class 'pandas.core.frame.DataFrame'>\n",
      "RangeIndex: 120 entries, 0 to 119\n",
      "Data columns (total 4 columns):\n",
      " #   Column        Non-Null Count  Dtype  \n",
      "---  ------        --------------  -----  \n",
      " 0   Laboratory 1  120 non-null    float64\n",
      " 1   Laboratory 2  120 non-null    float64\n",
      " 2   Laboratory 3  120 non-null    float64\n",
      " 3   Laboratory 4  120 non-null    float64\n",
      "dtypes: float64(4)\n",
      "memory usage: 3.9 KB\n"
     ]
    }
   ],
   "source": [
    "Q2.info()"
   ]
  },
  {
   "cell_type": "code",
   "execution_count": 11,
   "id": "adb37390",
   "metadata": {},
   "outputs": [
    {
     "data": {
      "text/plain": [
       "Laboratory 1    float64\n",
       "Laboratory 2    float64\n",
       "Laboratory 3    float64\n",
       "Laboratory 4    float64\n",
       "dtype: object"
      ]
     },
     "execution_count": 11,
     "metadata": {},
     "output_type": "execute_result"
    }
   ],
   "source": [
    "Q2.dtypes"
   ]
  },
  {
   "cell_type": "markdown",
   "id": "2576551b",
   "metadata": {},
   "source": [
    "### STEP 4: Finding the p value corresponding to X bar"
   ]
  },
  {
   "cell_type": "code",
   "execution_count": 12,
   "id": "cc41c978",
   "metadata": {},
   "outputs": [
    {
     "data": {
      "text/plain": [
       "F_onewayResult(statistic=118.70421654401437, pvalue=2.1156708949992414e-57)"
      ]
     },
     "execution_count": 12,
     "metadata": {},
     "output_type": "execute_result"
    }
   ],
   "source": [
    "stats.f_oneway(Q2.iloc[:,0],Q2.iloc[:,1],Q2.iloc[:,2],Q2.iloc[:,3])"
   ]
  },
  {
   "cell_type": "markdown",
   "id": "eba9ee08",
   "metadata": {},
   "source": [
    "### Step 5: Compare evidence with Hypothesis using ANOVA"
   ]
  },
  {
   "cell_type": "code",
   "execution_count": 13,
   "id": "0a9b42c7",
   "metadata": {},
   "outputs": [
    {
     "name": "stdout",
     "output_type": "stream",
     "text": [
      "Significnace=0.050, p=0.000\n",
      "We reject Null Hypothesis there is a significance difference between TAT of reports of the laboratories\n"
     ]
    }
   ],
   "source": [
    "alpha = 0.05\n",
    "print('Significnace=%.3f, p=%.3f' % (alpha, 2.1156708949992414e-57))\n",
    "if 2.1156708949992414e-57 <= alpha:\n",
    "    print('We reject Null Hypothesis there is a significance difference between TAT of reports of the laboratories')\n",
    "else:\n",
    "    print('We fail to reject Null hypothesis')"
   ]
  },
  {
   "cell_type": "code",
   "execution_count": null,
   "id": "dc4a3bbd",
   "metadata": {},
   "outputs": [],
   "source": []
  },
  {
   "cell_type": "markdown",
   "id": "554736ae",
   "metadata": {},
   "source": [
    "Q3)Sales of products in four different regions is tabulated for males and females. Find if male-female buyer rations are similar across regions.\n"
   ]
  },
  {
   "cell_type": "markdown",
   "id": "bc10067c",
   "metadata": {},
   "source": [
    "## Step 1\n",
    "##### Null Hypothesis is want we want to prove\n",
    "Null Hypothesis: male-female buyer rations are similar across regions\n",
    "\n",
    "Alternative Hypthosis: male-female buyer rations are different across regions\n",
    "## Step 2\n",
    "##### Decide a cut-off value\n",
    "###### Significance 5%\n",
    "###### Alpha = 0.05\n",
    "\n",
    "\n",
    "## Step 3\n",
    "##### Collect evidence"
   ]
  },
  {
   "cell_type": "code",
   "execution_count": 14,
   "id": "74bfcc50",
   "metadata": {},
   "outputs": [],
   "source": [
    "from pandas import DataFrame,Series"
   ]
  },
  {
   "cell_type": "code",
   "execution_count": 15,
   "id": "11b3cd4d",
   "metadata": {},
   "outputs": [],
   "source": [
    "a= {'East':[50, 550],\n",
    "    'West':[142, 351],\n",
    "    'North':[131, 480],\n",
    "    'South':[70, 350]}"
   ]
  },
  {
   "cell_type": "code",
   "execution_count": 16,
   "id": "d7d0e59b",
   "metadata": {},
   "outputs": [
    {
     "data": {
      "text/html": [
       "<div>\n",
       "<style scoped>\n",
       "    .dataframe tbody tr th:only-of-type {\n",
       "        vertical-align: middle;\n",
       "    }\n",
       "\n",
       "    .dataframe tbody tr th {\n",
       "        vertical-align: top;\n",
       "    }\n",
       "\n",
       "    .dataframe thead th {\n",
       "        text-align: right;\n",
       "    }\n",
       "</style>\n",
       "<table border=\"1\" class=\"dataframe\">\n",
       "  <thead>\n",
       "    <tr style=\"text-align: right;\">\n",
       "      <th></th>\n",
       "      <th>East</th>\n",
       "      <th>West</th>\n",
       "      <th>North</th>\n",
       "      <th>South</th>\n",
       "    </tr>\n",
       "  </thead>\n",
       "  <tbody>\n",
       "    <tr>\n",
       "      <th>Males</th>\n",
       "      <td>50</td>\n",
       "      <td>142</td>\n",
       "      <td>131</td>\n",
       "      <td>70</td>\n",
       "    </tr>\n",
       "    <tr>\n",
       "      <th>Females</th>\n",
       "      <td>550</td>\n",
       "      <td>351</td>\n",
       "      <td>480</td>\n",
       "      <td>350</td>\n",
       "    </tr>\n",
       "  </tbody>\n",
       "</table>\n",
       "</div>"
      ],
      "text/plain": [
       "         East  West  North  South\n",
       "Males      50   142    131     70\n",
       "Females   550   351    480    350"
      ]
     },
     "execution_count": 16,
     "metadata": {},
     "output_type": "execute_result"
    }
   ],
   "source": [
    "df = pd.DataFrame(a, index=['Males','Females'])\n",
    "df"
   ]
  },
  {
   "cell_type": "markdown",
   "id": "d541370b",
   "metadata": {},
   "source": [
    "### STEP 4: Finding the p value corresponding to X bar\n"
   ]
  },
  {
   "cell_type": "code",
   "execution_count": 17,
   "id": "4b260f8c",
   "metadata": {},
   "outputs": [],
   "source": [
    "from scipy.stats import chi2_contingency"
   ]
  },
  {
   "cell_type": "code",
   "execution_count": 18,
   "id": "c1a4f0d0",
   "metadata": {},
   "outputs": [],
   "source": [
    "table= [[50,142,131,70],\n",
    "[550,351,480,350]]"
   ]
  },
  {
   "cell_type": "code",
   "execution_count": 19,
   "id": "adb1c14f",
   "metadata": {},
   "outputs": [
    {
     "name": "stdout",
     "output_type": "stream",
     "text": [
      "Statistics =  80.27295426602495 P_Value =  2.682172557281901e-17 degree of freedom =          East  West  North  South\n",
      "Males      50   142    131     70\n",
      "Females   550   351    480    350\n"
     ]
    }
   ],
   "source": [
    "stat, p, dof, expected = chi2_contingency(table)\n",
    "print(\"Statistics = \",stat,'P_Value = ', p, 'degree of freedom =', df,)"
   ]
  },
  {
   "cell_type": "markdown",
   "id": "6daf7e92",
   "metadata": {},
   "source": [
    "### Step 5: Compare Evidences with Hypothesis using Chi Square - Test of Independence"
   ]
  },
  {
   "cell_type": "code",
   "execution_count": 20,
   "id": "774c5c6d",
   "metadata": {},
   "outputs": [
    {
     "name": "stdout",
     "output_type": "stream",
     "text": [
      "significance=0.050, p=0.000\n",
      "We reject Null Hypothesis as there is a significant association or dependency between the gender based buyer rations across regions\n"
     ]
    }
   ],
   "source": [
    "alpha = 0.05\n",
    "print('significance=%.3f, p=%.3f' % (alpha, 2.682172557281901e-17))\n",
    "if 2.682172557281901e-17 <= alpha:\n",
    "    print('We reject Null Hypothesis as there is a significant association or dependency between the gender based buyer rations across regions')\n",
    "else:\n",
    "    print('We failed to reject Null Hypothesis')"
   ]
  },
  {
   "cell_type": "code",
   "execution_count": null,
   "id": "d3e58206",
   "metadata": {},
   "outputs": [],
   "source": []
  },
  {
   "cell_type": "markdown",
   "id": "499ac39f",
   "metadata": {},
   "source": [
    "Q4) TeleCall uses 4 centers around the globe to process customer order forms. They audit a certain %  of the customer order forms. Any error in order form renders it defective and has to be reworked before processing.  The manager wants to check whether the defective %  varies by centre. Please analyze the data at 5% significance level and help the manager draw appropriate inferences"
   ]
  },
  {
   "cell_type": "markdown",
   "id": "9923026a",
   "metadata": {},
   "source": [
    "### Step 1\n",
    "Null Hypothesis is want we want to prove\n",
    "\n",
    "Null Hypothesis: \n",
    "\n",
    "Alternative Hypthosis: \n",
    "\n",
    "#### Step 2\n",
    "Decide a cut-off value\n",
    "\n",
    "Significance 5%\n",
    "\n",
    "Alpha = 0.05\n",
    "\n",
    "### Step 3\n",
    "Collect evidence"
   ]
  },
  {
   "cell_type": "code",
   "execution_count": 21,
   "id": "3707954f",
   "metadata": {},
   "outputs": [],
   "source": [
    "Q4= pd.read_csv('Costomer+OrderForm.csv')"
   ]
  },
  {
   "cell_type": "code",
   "execution_count": 35,
   "id": "af2745ad",
   "metadata": {},
   "outputs": [
    {
     "data": {
      "text/html": [
       "<div>\n",
       "<style scoped>\n",
       "    .dataframe tbody tr th:only-of-type {\n",
       "        vertical-align: middle;\n",
       "    }\n",
       "\n",
       "    .dataframe tbody tr th {\n",
       "        vertical-align: top;\n",
       "    }\n",
       "\n",
       "    .dataframe thead th {\n",
       "        text-align: right;\n",
       "    }\n",
       "</style>\n",
       "<table border=\"1\" class=\"dataframe\">\n",
       "  <thead>\n",
       "    <tr style=\"text-align: right;\">\n",
       "      <th></th>\n",
       "      <th>Phillippines</th>\n",
       "      <th>Indonesia</th>\n",
       "      <th>Malta</th>\n",
       "      <th>India</th>\n",
       "    </tr>\n",
       "  </thead>\n",
       "  <tbody>\n",
       "    <tr>\n",
       "      <th>0</th>\n",
       "      <td>Error Free</td>\n",
       "      <td>Error Free</td>\n",
       "      <td>Defective</td>\n",
       "      <td>Error Free</td>\n",
       "    </tr>\n",
       "    <tr>\n",
       "      <th>1</th>\n",
       "      <td>Error Free</td>\n",
       "      <td>Error Free</td>\n",
       "      <td>Error Free</td>\n",
       "      <td>Defective</td>\n",
       "    </tr>\n",
       "    <tr>\n",
       "      <th>2</th>\n",
       "      <td>Error Free</td>\n",
       "      <td>Defective</td>\n",
       "      <td>Defective</td>\n",
       "      <td>Error Free</td>\n",
       "    </tr>\n",
       "    <tr>\n",
       "      <th>3</th>\n",
       "      <td>Error Free</td>\n",
       "      <td>Error Free</td>\n",
       "      <td>Error Free</td>\n",
       "      <td>Error Free</td>\n",
       "    </tr>\n",
       "    <tr>\n",
       "      <th>4</th>\n",
       "      <td>Error Free</td>\n",
       "      <td>Error Free</td>\n",
       "      <td>Defective</td>\n",
       "      <td>Error Free</td>\n",
       "    </tr>\n",
       "  </tbody>\n",
       "</table>\n",
       "</div>"
      ],
      "text/plain": [
       "  Phillippines   Indonesia       Malta       India\n",
       "0   Error Free  Error Free   Defective  Error Free\n",
       "1   Error Free  Error Free  Error Free   Defective\n",
       "2   Error Free   Defective   Defective  Error Free\n",
       "3   Error Free  Error Free  Error Free  Error Free\n",
       "4   Error Free  Error Free   Defective  Error Free"
      ]
     },
     "execution_count": 35,
     "metadata": {},
     "output_type": "execute_result"
    }
   ],
   "source": [
    "Q4.head()"
   ]
  },
  {
   "cell_type": "code",
   "execution_count": 23,
   "id": "f3cf5858",
   "metadata": {},
   "outputs": [
    {
     "name": "stdout",
     "output_type": "stream",
     "text": [
      "<class 'pandas.core.frame.DataFrame'>\n",
      "RangeIndex: 300 entries, 0 to 299\n",
      "Data columns (total 4 columns):\n",
      " #   Column        Non-Null Count  Dtype \n",
      "---  ------        --------------  ----- \n",
      " 0   Phillippines  300 non-null    object\n",
      " 1   Indonesia     300 non-null    object\n",
      " 2   Malta         300 non-null    object\n",
      " 3   India         300 non-null    object\n",
      "dtypes: object(4)\n",
      "memory usage: 9.5+ KB\n"
     ]
    }
   ],
   "source": [
    "Q4.info ()"
   ]
  },
  {
   "cell_type": "code",
   "execution_count": 24,
   "id": "412f7e8c",
   "metadata": {},
   "outputs": [
    {
     "data": {
      "text/plain": [
       "Phillippines    object\n",
       "Indonesia       object\n",
       "Malta           object\n",
       "India           object\n",
       "dtype: object"
      ]
     },
     "execution_count": 24,
     "metadata": {},
     "output_type": "execute_result"
    }
   ],
   "source": [
    "Q4.dtypes"
   ]
  },
  {
   "cell_type": "code",
   "execution_count": 25,
   "id": "91ebf518",
   "metadata": {},
   "outputs": [
    {
     "data": {
      "text/plain": [
       "Phillippines    Error Free\n",
       "Indonesia       Error Free\n",
       "Malta           Error Free\n",
       "India           Error Free\n",
       "dtype: object"
      ]
     },
     "execution_count": 25,
     "metadata": {},
     "output_type": "execute_result"
    }
   ],
   "source": [
    "Q4.max()"
   ]
  },
  {
   "cell_type": "markdown",
   "id": "972b445b",
   "metadata": {},
   "source": [
    "### STEP 4: Finding the p value corresponding to X bar\n"
   ]
  },
  {
   "cell_type": "code",
   "execution_count": 26,
   "id": "724f86bc",
   "metadata": {},
   "outputs": [
    {
     "name": "stdout",
     "output_type": "stream",
     "text": [
      "Error Free    271\n",
      "Defective      29\n",
      "Name: Phillippines, dtype: int64 Error Free    267\n",
      "Defective      33\n",
      "Name: Indonesia, dtype: int64 Error Free    269\n",
      "Defective      31\n",
      "Name: Malta, dtype: int64 Error Free    280\n",
      "Defective      20\n",
      "Name: India, dtype: int64\n"
     ]
    }
   ],
   "source": [
    "print(Q4['Phillippines'].value_counts(), Q4['Indonesia'].value_counts(),Q4['Malta'].value_counts(),Q4['India'].value_counts())\n"
   ]
  },
  {
   "cell_type": "code",
   "execution_count": 27,
   "id": "72d4882b",
   "metadata": {},
   "outputs": [],
   "source": [
    "table1 = [[271,267,269,280],\n",
    "                    [29,33,31,20]]"
   ]
  },
  {
   "cell_type": "code",
   "execution_count": 28,
   "id": "ba197547",
   "metadata": {},
   "outputs": [
    {
     "data": {
      "text/plain": [
       "[[271, 267, 269, 280], [29, 33, 31, 20]]"
      ]
     },
     "execution_count": 28,
     "metadata": {},
     "output_type": "execute_result"
    }
   ],
   "source": [
    "table1"
   ]
  },
  {
   "cell_type": "code",
   "execution_count": 29,
   "id": "6ccbae3f",
   "metadata": {},
   "outputs": [
    {
     "name": "stdout",
     "output_type": "stream",
     "text": [
      "Statistics =  3.858960685820355 degree of freedom = 3 Expected Values =  [[271.75 271.75 271.75 271.75]\n",
      " [ 28.25  28.25  28.25  28.25]]\n"
     ]
    }
   ],
   "source": [
    "stat, p, df, exp = stats.chi2_contingency(table1)\n",
    "print(\"Statistics = \",stat, 'degree of freedom =', df, 'Expected Values = ', exp)"
   ]
  },
  {
   "cell_type": "code",
   "execution_count": 30,
   "id": "46a022fb",
   "metadata": {},
   "outputs": [],
   "source": [
    "observed = [271, 267, 269, 280, 29, 33, 31, 20]\n",
    "expected = [271.75, 271.75, 271.75, 271.75, 28.25, 28.25, 28.25, 28.25]"
   ]
  },
  {
   "cell_type": "code",
   "execution_count": 31,
   "id": "9d788ed2",
   "metadata": {},
   "outputs": [
    {
     "data": {
      "text/plain": [
       "Power_divergenceResult(statistic=3.858960685820355, pvalue=0.7958716079649663)"
      ]
     },
     "execution_count": 31,
     "metadata": {},
     "output_type": "execute_result"
    }
   ],
   "source": [
    "stats.chisquare(f_obs=observed, f_exp=expected)"
   ]
  },
  {
   "cell_type": "markdown",
   "id": "a8a1b05a",
   "metadata": {},
   "source": [
    "\n",
    "### Step5: Compare Evidences with Hypothesis using Chi Square - Goodness of fit"
   ]
  },
  {
   "cell_type": "code",
   "execution_count": 32,
   "id": "0d372fd0",
   "metadata": {},
   "outputs": [
    {
     "name": "stdout",
     "output_type": "stream",
     "text": [
      "Significnace=0.050, p=0.796\n",
      "We fail to reject Null hypothesis\n"
     ]
    }
   ],
   "source": [
    "alpha = 0.05\n",
    "print('Significnace=%.3f, p=%.3f' % (alpha, 0.7958716079649663))\n",
    "if 0.7958716079649663 <= alpha:\n",
    "    print('We reject Null Hypothesis ')\n",
    "else:\n",
    "    print('We fail to reject Null hypothesis')"
   ]
  },
  {
   "cell_type": "code",
   "execution_count": null,
   "id": "6bd135c3",
   "metadata": {},
   "outputs": [],
   "source": []
  }
 ],
 "metadata": {
  "kernelspec": {
   "display_name": "Python 3 (ipykernel)",
   "language": "python",
   "name": "python3"
  },
  "language_info": {
   "codemirror_mode": {
    "name": "ipython",
    "version": 3
   },
   "file_extension": ".py",
   "mimetype": "text/x-python",
   "name": "python",
   "nbconvert_exporter": "python",
   "pygments_lexer": "ipython3",
   "version": "3.9.13"
  }
 },
 "nbformat": 4,
 "nbformat_minor": 5
}
